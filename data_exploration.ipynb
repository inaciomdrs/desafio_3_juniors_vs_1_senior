{
 "cells": [
  {
   "cell_type": "code",
   "execution_count": 4,
   "metadata": {},
   "outputs": [],
   "source": [
    "import pandas as pd\n",
    "import numpy as np"
   ]
  },
  {
   "cell_type": "code",
   "execution_count": 5,
   "metadata": {},
   "outputs": [],
   "source": [
    "dados = pd.read_json('usuarios_1000.json')"
   ]
  },
  {
   "cell_type": "code",
   "execution_count": 6,
   "metadata": {},
   "outputs": [
    {
     "data": {
      "text/plain": [
       "103"
      ]
     },
     "execution_count": 6,
     "metadata": {},
     "output_type": "execute_result"
    }
   ],
   "source": [
    "((dados['score'] >= 900) & (dados['active'])).sum()"
   ]
  },
  {
   "cell_type": "code",
   "execution_count": 7,
   "metadata": {},
   "outputs": [
    {
     "data": {
      "text/plain": [
       "country\n",
       "Canadá       13\n",
       "Alemanha     13\n",
       "Brasil       12\n",
       "México       11\n",
       "Argentina    10\n",
       "Name: count, dtype: int64"
      ]
     },
     "execution_count": 7,
     "metadata": {},
     "output_type": "execute_result"
    }
   ],
   "source": [
    "dados[((dados['score'] >= 900) & (dados['active']))]['country'].value_counts().head()"
   ]
  },
  {
   "cell_type": "code",
   "execution_count": 8,
   "metadata": {},
   "outputs": [
    {
     "name": "stdout",
     "output_type": "stream",
     "text": [
      "Backend Ninjas 166 30 5 85.54\n",
      "DevOps Masters 219 30 5 94.06\n",
      "Frontend Avengers 217 35 5 90.78\n",
      "Fullstack Force 213 29 5 89.67\n",
      "UX Wizards 185 21 5 91.89\n"
     ]
    }
   ],
   "source": [
    "dados.head(2)\n",
    "dados['team_name'] = dados['team'].map(lambda v: v['name'])\n",
    "dados['team_leader'] = dados['team'].map(lambda v: v['leader'])\n",
    "for team_name, df_team in dados.groupby('team_name'):\n",
    "    print(\n",
    "        team_name,\n",
    "        df_team.shape[0],\n",
    "        df_team.loc[df_team['team_leader'], 'name'].shape[0],\n",
    "        len(set([project['name'] for t in df_team['team'] for project in t['projects'] if project['completed']])),\n",
    "        round(df_team['active'].value_counts(normalize=True).get(True, 1) * 100, 2)\n",
    "    )"
   ]
  }
 ],
 "metadata": {
  "kernelspec": {
   "display_name": "ding_gukesh",
   "language": "python",
   "name": "ding_gukesh"
  },
  "language_info": {
   "codemirror_mode": {
    "name": "ipython",
    "version": 3
   },
   "file_extension": ".py",
   "mimetype": "text/x-python",
   "name": "python",
   "nbconvert_exporter": "python",
   "pygments_lexer": "ipython3",
   "version": "3.12.3"
  }
 },
 "nbformat": 4,
 "nbformat_minor": 2
}
